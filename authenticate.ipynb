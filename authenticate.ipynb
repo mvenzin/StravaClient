{
 "cells": [
  {
   "cell_type": "code",
   "execution_count": null,
   "id": "0",
   "metadata": {},
   "outputs": [],
   "source": [
    "import json\n",
    "import os\n",
    "import json\n",
    "from selenium import webdriver\n",
    "import time\n",
    "import re\n",
    "from stravalib.client import Client\n",
    "\n",
    "\n",
    "def initialize_json(json_path):\n",
    "    if not os.path.exists(json_path):\n",
    "        \n",
    "        print('This is the first time you use this. Please login to https://www.strava.com/settings/api and create a new application. ')\n",
    "        \n",
    "        client_id = input(f\"Please enter your client id: \")\n",
    "        client_secret = input(f\"Please enter your client secret: \")\n",
    "        \n",
    "        client = Client()\n",
    "        request_scope = [\"read_all\", \"profile:read_all\", \"activity:read_all\"]\n",
    "        redirect_url = \"http://127.0.0.1:5000/authorization\"\n",
    "\n",
    "        # Creates an authorization URL using stravalib\n",
    "        url = client.authorization_url(\n",
    "            client_id=client_id,\n",
    "            redirect_uri=redirect_url,\n",
    "            scope=request_scope,\n",
    "        )\n",
    "\n",
    "        # Opens the URL and automatically gets the necessary code\n",
    "        driver = webdriver.Firefox()\n",
    "        driver.get(url)\n",
    "        match = re.search(r\"authorization?state=&code=([^&]+)\", driver.current_url)\n",
    "        while not match:\n",
    "            time.sleep(0.5)\n",
    "            match = re.search(r\"code=([^&]+)\", driver.current_url)\n",
    "        code = match.group(1)\n",
    "        driver.close()\n",
    "\n",
    "        #Exchanges the code for an access token. Token is stored in json-file.\n",
    "        client = Client()\n",
    "        token_response = client.exchange_code_for_token(client_id=client_id, client_secret=client_secret, code=code)\n",
    "\n",
    "        data = {'client_id': client_id,\n",
    "                'client_secret': client_secret,\n",
    "                'token': token_response\n",
    "               }\n",
    "\n",
    "        with open(json_path, \"w\") as file:\n",
    "            json.dump(data, file, indent=4)\n",
    "\n",
    "def getAuthenticatedClient(json_path = 'pw'):\n",
    "    # Make sure the authentification is possible\n",
    "    initialize_json(json_path)\n",
    "    \n",
    "    client = Client()\n",
    "    with open(json_path, \"r\") as file:\n",
    "            data = json.load(file)\n",
    "\n",
    "    # Access values (client_id, client_secret, tokens)\n",
    "    client_id = data.get(\"client_id\")       \n",
    "    client_secret = data.get(\"client_secret\")  \n",
    "    tokens = data.get(\"token\")\n",
    "\n",
    "    # Immediately refreshes token and stores it. New token is valid for 6 hours.\n",
    "    token_response = client.refresh_access_token(\n",
    "        client_id=client_id,\n",
    "        client_secret=client_secret,\n",
    "        refresh_token=tokens['refresh_token'])\n",
    "    \n",
    "    new_access_token = token_response[\"access_token\"]\n",
    "    \n",
    "    data = {'client_id': client_id,\n",
    "            'client_secret': client_secret,\n",
    "            'token': token_response}\n",
    "    \n",
    "    with open(json_path, \"w\") as file:\n",
    "        json.dump(data, file, indent=4)\n",
    "\n",
    "    # Returns an authenticated client valid for 6 hours.\n",
    "    return Client(access_token = new_access_token)"
   ]
  },
  {
   "cell_type": "code",
   "execution_count": null,
   "id": "1",
   "metadata": {},
   "outputs": [],
   "source": [
    "#sets up an authenticated client. \n",
    "client = getAuthenticatedClient()"
   ]
  },
  {
   "cell_type": "code",
   "execution_count": null,
   "id": "2",
   "metadata": {},
   "outputs": [],
   "source": [
    "#returns an iterator over the activities\n",
    "client.get_activities()"
   ]
  },
  {
   "cell_type": "code",
   "execution_count": null,
   "id": "3",
   "metadata": {},
   "outputs": [],
   "source": [
    "#gets information on the athlete\n",
    "client.get_athlete()"
   ]
  },
  {
   "cell_type": "code",
   "execution_count": null,
   "id": "4",
   "metadata": {},
   "outputs": [],
   "source": []
  }
 ],
 "metadata": {
  "kernelspec": {
   "display_name": "Python (default-env)",
   "language": "python",
   "name": "default-env"
  },
  "language_info": {
   "codemirror_mode": {
    "name": "ipython",
    "version": 3
   },
   "file_extension": ".py",
   "mimetype": "text/x-python",
   "name": "python",
   "nbconvert_exporter": "python",
   "pygments_lexer": "ipython3",
   "version": "3.10.15"
  }
 },
 "nbformat": 4,
 "nbformat_minor": 5
}
