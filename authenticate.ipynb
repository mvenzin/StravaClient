{
 "cells": [
  {
   "cell_type": "code",
   "execution_count": 3,
   "id": "57e8a993-5c5d-4ad4-9c96-56a32f7d6717",
   "metadata": {},
   "outputs": [],
   "source": [
    "import json\n",
    "import os\n",
    "import json\n",
    "from selenium import webdriver\n",
    "import time\n",
    "import re\n",
    "from stravalib.client import Client\n",
    "\n",
    "\n",
    "def initialize_json(json_path):\n",
    "    if not os.path.exists(json_path):\n",
    "        \n",
    "        print('This is the first time you use this. Please login to https://www.strava.com/settings/api and create a new application. ')\n",
    "        \n",
    "        client_id = input(f\"Please enter your client id: \")\n",
    "        client_secret = input(f\"Please enter your client secret: \")\n",
    "        \n",
    "        client = Client()\n",
    "        request_scope = [\"read_all\", \"profile:read_all\", \"activity:read_all\"]\n",
    "        redirect_url = \"http://127.0.0.1:5000/authorization\"\n",
    "\n",
    "        # Creates an authorization URL using stravalib\n",
    "        url = client.authorization_url(\n",
    "            client_id=client_id,\n",
    "            redirect_uri=redirect_url,\n",
    "            scope=request_scope,\n",
    "        )\n",
    "\n",
    "        # Opens the URL and automatically gets the necessary code\n",
    "        driver = webdriver.Firefox()\n",
    "        driver.get(url)\n",
    "        match = re.search(r\"authorization?state=&code=([^&]+)\", driver.current_url)\n",
    "        while not match:\n",
    "            time.sleep(0.5)\n",
    "            match = re.search(r\"code=([^&]+)\", driver.current_url)\n",
    "        code = match.group(1)\n",
    "        driver.close()\n",
    "\n",
    "        #Exchanges the code for an access token. Token is stored in json-file.\n",
    "        client = Client()\n",
    "        token_response = client.exchange_code_for_token(client_id=client_id, client_secret=client_secret, code=code)\n",
    "\n",
    "        data = {'client_id': client_id,\n",
    "                'client_secret': client_secret,\n",
    "                'token': token_response\n",
    "               }\n",
    "\n",
    "        with open(json_path, \"w\") as file:\n",
    "            json.dump(data, file, indent=4)\n",
    "\n",
    "def getAuthenticatedClient(json_path = 'pw'):\n",
    "    # Make sure the authentification is possible\n",
    "    initialize_json(json_path)\n",
    "    \n",
    "    client = Client()\n",
    "    with open(json_path, \"r\") as file:\n",
    "            data = json.load(file)\n",
    "\n",
    "    # Access values (client_id, client_secret, tokens)\n",
    "    client_id = data.get(\"client_id\")       \n",
    "    client_secret = data.get(\"client_secret\")  \n",
    "    tokens = data.get(\"token\")\n",
    "\n",
    "    # Immediately refreshes token and stores it. New token is valid for 6 hours.\n",
    "    token_response = client.refresh_access_token(\n",
    "        client_id=client_id,\n",
    "        client_secret=client_secret,\n",
    "        refresh_token=tokens['refresh_token'])\n",
    "    \n",
    "    new_access_token = token_response[\"access_token\"]\n",
    "    \n",
    "    data = {'client_id': client_id,\n",
    "            'client_secret': client_secret,\n",
    "            'token': token_response}\n",
    "    \n",
    "    with open(json_path, \"w\") as file:\n",
    "        json.dump(data, file, indent=4)\n",
    "\n",
    "    # Returns an authenticated client valid for 6 hours.\n",
    "    return Client(access_token = new_access_token)"
   ]
  },
  {
   "cell_type": "code",
   "execution_count": 4,
   "id": "a11fc28f-9b5f-43e6-a237-a19688325f4a",
   "metadata": {},
   "outputs": [
    {
     "name": "stderr",
     "output_type": "stream",
     "text": [
      "No rates present in response headers\n"
     ]
    }
   ],
   "source": [
    "#sets up an authenticated client. \n",
    "client = getAuthenticatedClient()"
   ]
  },
  {
   "cell_type": "code",
   "execution_count": 5,
   "id": "7d347924-8fc4-49ca-8b19-bc0870965f60",
   "metadata": {},
   "outputs": [
    {
     "data": {
      "text/plain": [
       "<BatchedResultsIterator entity=SummaryActivity>"
      ]
     },
     "execution_count": 5,
     "metadata": {},
     "output_type": "execute_result"
    }
   ],
   "source": [
    "#returns an iterator over the activities\n",
    "client.get_activities()"
   ]
  },
  {
   "cell_type": "code",
   "execution_count": 6,
   "id": "3156a5ce-c7e8-421c-b0d4-3d0ea95d1e4e",
   "metadata": {},
   "outputs": [
    {
     "data": {
      "text/plain": [
       "DetailedAthlete(bound_client=<stravalib.client.Client object at 0x10a539330>, id=67722075, city=None, country=None, created_at=datetime.datetime(2020, 9, 4, 20, 38, 39, tzinfo=TzInfo(UTC)), firstname='Moritz', lastname='Venzin', premium=True, profile='avatar/athlete/large.png', profile_medium='avatar/athlete/medium.png', resource_state=3, sex='M', state=None, summit=True, updated_at=datetime.datetime(2025, 2, 9, 20, 40, 32, tzinfo=TzInfo(UTC)), bikes=[SummaryGear(distance=1102561.0, id='b15312545', name='BMC diablo', primary=False, resource_state=2), SummaryGear(distance=406620.0, id='b15308047', name='deRosa', primary=False, resource_state=2)], clubs=[SummaryClub(bound_client=None, id=1235616, name='Transibérica Ultracycling', resource_state=2, activity_types=[ActivityType(root='Handcycle'), ActivityType(root='EBikeRide'), ActivityType(root='VirtualRide'), ActivityType(root='Velomobile'), ActivityType(root='Ride')], city='Bilbao', country='Spain', cover_photo='https://dgalywyr863hv.cloudfront.net/pictures/clubs/1235616/30709388/4/large.jpg', cover_photo_small='https://dgalywyr863hv.cloudfront.net/pictures/clubs/1235616/30709388/4/small.jpg', featured=False, member_count=0, private=False, profile_medium='https://dgalywyr863hv.cloudfront.net/pictures/clubs/1235616/30709290/2/medium.jpg', sport_type='cycling', state='Biscay', url='Transiberica', verified=True, profile='https://dgalywyr863hv.cloudfront.net/pictures/clubs/1235616/30709290/2/large.jpg', description=None, club_type=None)], follower_count=31, friend_count=30, ftp=None, measurement_preference='meters', shoes=[], weight=None, athlete_type='cyclist', friend=None, follower=None, approve_followers=None, badge_type_id=1, mutual_friend_count=0, date_preference='%m/%d/%Y', email=None, super_user=None, email_language=None, max_heartrate=None, username=None, description=None, instagram_username=None, offer_in_app_payment=None, global_privacy=None, receive_newsletter=None, email_kom_lost=None, dateofbirth=None, facebook_sharing_enabled=None, profile_original=None, premium_expiration_date=None, email_send_follower_notices=None, plan=None, agreed_to_terms=None, follower_request_count=None, email_facebook_twitter_friend_joins=None, receive_kudos_emails=None, receive_follower_feed_emails=None, receive_comment_emails=None, sample_race_distance=None, sample_race_time=None, membership=None, admin=None, owner=None, subscription_permissions=None)"
      ]
     },
     "execution_count": 6,
     "metadata": {},
     "output_type": "execute_result"
    }
   ],
   "source": [
    "#gets information on the athlete\n",
    "client.get_athlete()"
   ]
  },
  {
   "cell_type": "code",
   "execution_count": null,
   "id": "a8635ed2-ba24-4d59-be97-58542f94c9d2",
   "metadata": {},
   "outputs": [],
   "source": []
  }
 ],
 "metadata": {
  "kernelspec": {
   "display_name": "Python (default-env)",
   "language": "python",
   "name": "default-env"
  },
  "language_info": {
   "codemirror_mode": {
    "name": "ipython",
    "version": 3
   },
   "file_extension": ".py",
   "mimetype": "text/x-python",
   "name": "python",
   "nbconvert_exporter": "python",
   "pygments_lexer": "ipython3",
   "version": "3.10.15"
  }
 },
 "nbformat": 4,
 "nbformat_minor": 5
}
