{
 "cells": [
  {
   "cell_type": "code",
   "execution_count": 44,
   "id": "47e29c3d-0cf9-4d15-8fb0-c333b203637a",
   "metadata": {},
   "outputs": [
    {
     "name": "stderr",
     "output_type": "stream",
     "text": [
      "No rates present in response headers\n"
     ]
    }
   ],
   "source": [
    "%run authenticate.ipynb\n",
    "import datetime\n",
    "import pandas as pd"
   ]
  },
  {
   "cell_type": "code",
   "execution_count": 45,
   "id": "5c9e17ff-2c5a-4afb-b0e9-27ed3e6a8be7",
   "metadata": {},
   "outputs": [
    {
     "name": "stderr",
     "output_type": "stream",
     "text": [
      "No rates present in response headers\n"
     ]
    }
   ],
   "source": [
    "#authenticate to Strava and get all activities\n",
    "client = getAuthenticatedClient()\n",
    "activitiesStrava = client.get_activities()"
   ]
  },
  {
   "cell_type": "markdown",
   "id": "408fbfda-715e-4444-a418-1db21ed8bb1d",
   "metadata": {},
   "source": [
    "Some simple functions to export the activities to pandas format and compute useful statistics."
   ]
  },
  {
   "cell_type": "code",
   "execution_count": 46,
   "id": "91e4f1ca-22bd-4363-8ff4-9c2a21e8a5ac",
   "metadata": {},
   "outputs": [],
   "source": [
    "def getActivitiesBike(customIdToBike = True):\n",
    "    \n",
    "    dic = {b.id: b.name for b in client.get_athlete().bikes} #bikes are stored with an id in strava.\n",
    "    \n",
    "    def gearIdToBike(x, dic): #converts the gear_id to the name of the actual bike I was riding (makes sure there is no None)\n",
    "        if (x['gear_id'] == None) and (x['start_date_local'] > pd.Timestamp('2024-05-24').tz_localize('UTC')):\n",
    "            return 'deRosa' #my current main bike\n",
    "        elif (x['gear_id'] == None) and (x['start_date_local'] <= pd.Timestamp('2024-05-24').tz_localize('UTC')):\n",
    "            return 'BMC diablo' #my old bike\n",
    "        else:\n",
    "            return dic[x['gear_id']]\n",
    "    \n",
    "    features = ['name', 'id', 'start_date_local', 'distance', 'gear_id', 'sport_type', 'elapsed_time']\n",
    "    \n",
    "    activities = []\n",
    "    for activity in activitiesStrava:\n",
    "        activities.append([getattr(activity, f, None) for f in features])\n",
    "    activities = pd.DataFrame(activities, columns = features)\n",
    "    \n",
    "    activities['distance'] = activities['distance'].apply(lambda x: x//1000) #converts to km\n",
    "    \n",
    "    activities = activities[(activities['sport_type'] == 'Ride') | (activities['sport_type'] == 'VirtualRide')] #filters out biking activities\n",
    "    \n",
    "    if customIdToBike == True: #exchanges gear_id with name of bike. \n",
    "        activities['bike'] = activities.apply(lambda x: gearIdToBike(x, dic), axis = 1)\n",
    "    else:\n",
    "        activities['bike'] = activities.apply(lambda x: None if x.gear_id == None else dic[x.gear_id], axis = 1)\n",
    "        \n",
    "    activities['type'] = activities.sport_type.apply(lambda x: 'Virtual' if x == 'VirtualRide' else 'Outdoor')\n",
    "    \n",
    "    activities['date'] = activities.start_date_local.apply(lambda x: x.strftime(\"%Y-%m-%d\"))\n",
    "\n",
    "    activities['time'] = round(activities['elapsed_time']/3600,1)\n",
    "    \n",
    "    return activities[['name', 'date', 'distance', 'bike', 'type', 'time']]\n",
    "\n",
    "\n",
    "\n",
    "#relevant informations for (my) chains and cassettes in use\n",
    "chainDeRosa = {\n",
    "    'Ultegra': ['2024-05-24', '2025-02-18'], #each entry in the list denotes the time the chain was put on (and the other chain removed)\n",
    "    'Dura Ace': ['2024-12-11']\n",
    "}\n",
    "CassetteDeRosa = { #two distinct cassettes, one mounted to indoor trainer, the other on the road bike.\n",
    "    'Ultegra': {'type': 'Outdoor'},\n",
    "    '105': {'type': 'Virtual'}\n",
    "}\n",
    "\n",
    "def getChainWear():\n",
    "    activities = getActivitiesBike()\n",
    "    distinct_dates = sorted(sum(list(chainDeRosa.values()),[]))\n",
    "    dates = [(start, end) for start,end in zip(distinct_dates, distinct_dates[1:])] + [(distinct_dates[-1], '2222-11-11')]\n",
    "    \n",
    "    fullDatesChains = {}\n",
    "    for c in chainDeRosa.keys():\n",
    "        fullDatesChains[c] = []\n",
    "        for (start,end) in dates:\n",
    "            if start in chainDeRosa[c]:\n",
    "                fullDatesChains[c].append((start,end))\n",
    "    for c in fullDatesChains:\n",
    "        chain_life = sum( activities[(start < activities.date) & (activities.date <= end) & (activities.bike == 'deRosa')].distance.sum() for (start,end) in fullDatesChains[c] )\n",
    "        print(f\"Chain {c}: \", chain_life, \" km\")\n",
    "\n",
    "def getCassetteWear():\n",
    "    activities = getActivitiesBike()\n",
    "    for cass in CassetteDeRosa:\n",
    "        wear = activities[(activities.type == CassetteDeRosa[cass]['type']) & (activities.bike == 'deRosa')].distance.sum()\n",
    "        print(f\"Cassette {cass} : {wear}, km\")\n"
   ]
  },
  {
   "cell_type": "code",
   "execution_count": 47,
   "id": "2a6b56f1-ef4c-4a24-a6fe-0538947d0a04",
   "metadata": {},
   "outputs": [
    {
     "name": "stdout",
     "output_type": "stream",
     "text": [
      "                                   name        date  distance    bike  \\\n",
      "0                Zone 2 Endurance 30min  2025-02-25      24.0  deRosa   \n",
      "1                  Lactate Threshold #1  2025-02-24      24.0  deRosa   \n",
      "2  Anaerobic Capacity into Sweetspot #1  2025-02-23      12.0  deRosa   \n",
      "3                            30/15's #2  2025-02-22      12.0  deRosa   \n",
      "4                          Endurance #1  2025-02-20      20.0  deRosa   \n",
      "5                           TT Speed #1  2025-02-19      29.0  deRosa   \n",
      "6                Zone 2 Endurance 30min  2025-02-18      10.0  deRosa   \n",
      "7                       Active Recovery  2025-02-17      23.0  deRosa   \n",
      "8               Endurance with 3 x 1min  2025-02-16      16.0  deRosa   \n",
      "9                            30/15's #6  2025-02-14      18.0  deRosa   \n",
      "\n",
      "      type  time  \n",
      "0  Virtual   1.0  \n",
      "1  Virtual   1.0  \n",
      "2  Virtual   0.5  \n",
      "3  Virtual   0.5  \n",
      "4  Virtual   1.0  \n",
      "5  Virtual   1.1  \n",
      "6  Virtual   1.0  \n",
      "7  Virtual   0.8  \n",
      "8  Virtual   0.8  \n",
      "9  Virtual   0.6  \n",
      "KMs this year:  660.0\n"
     ]
    }
   ],
   "source": [
    "#returns the last 10 activities and computes the KMs this year\n",
    "activities = getActivitiesBike(True) #gets the activities\n",
    "print(activities[:10])\n",
    "total = activities[activities.date > '2025-01-01'].distance.sum()\n",
    "print('KMs this year: ', total)"
   ]
  },
  {
   "cell_type": "code",
   "execution_count": 48,
   "id": "fc316f30-d39d-4704-aac4-38bf3f87f430",
   "metadata": {},
   "outputs": [
    {
     "data": {
      "text/plain": [
       "DetailedAthlete(bound_client=<stravalib.client.Client object at 0x162859540>, id=67722075, city=None, country=None, created_at=datetime.datetime(2020, 9, 4, 20, 38, 39, tzinfo=TzInfo(UTC)), firstname='Moritz', lastname='Venzin', premium=True, profile='avatar/athlete/large.png', profile_medium='avatar/athlete/medium.png', resource_state=3, sex='M', state=None, summit=True, updated_at=datetime.datetime(2025, 2, 9, 20, 40, 32, tzinfo=TzInfo(UTC)), bikes=[SummaryGear(distance=1102561.0, id='b15312545', name='BMC diablo', primary=False, resource_state=2), SummaryGear(distance=406620.0, id='b15308047', name='deRosa', primary=False, resource_state=2)], clubs=[SummaryClub(bound_client=None, id=1235616, name='Transibérica Ultracycling', resource_state=2, activity_types=[ActivityType(root='Handcycle'), ActivityType(root='EBikeRide'), ActivityType(root='VirtualRide'), ActivityType(root='Velomobile'), ActivityType(root='Ride')], city='Bilbao', country='Spain', cover_photo='https://dgalywyr863hv.cloudfront.net/pictures/clubs/1235616/30709388/4/large.jpg', cover_photo_small='https://dgalywyr863hv.cloudfront.net/pictures/clubs/1235616/30709388/4/small.jpg', featured=False, member_count=0, private=False, profile_medium='https://dgalywyr863hv.cloudfront.net/pictures/clubs/1235616/30709290/2/medium.jpg', sport_type='cycling', state='Biscay', url='Transiberica', verified=True, profile='https://dgalywyr863hv.cloudfront.net/pictures/clubs/1235616/30709290/2/large.jpg', description=None, club_type=None)], follower_count=31, friend_count=30, ftp=None, measurement_preference='meters', shoes=[], weight=None, athlete_type='cyclist', friend=None, follower=None, approve_followers=None, badge_type_id=1, mutual_friend_count=0, date_preference='%m/%d/%Y', email=None, super_user=None, email_language=None, max_heartrate=None, username=None, description=None, instagram_username=None, offer_in_app_payment=None, global_privacy=None, receive_newsletter=None, email_kom_lost=None, dateofbirth=None, facebook_sharing_enabled=None, profile_original=None, premium_expiration_date=None, email_send_follower_notices=None, plan=None, agreed_to_terms=None, follower_request_count=None, email_facebook_twitter_friend_joins=None, receive_kudos_emails=None, receive_follower_feed_emails=None, receive_comment_emails=None, sample_race_distance=None, sample_race_time=None, membership=None, admin=None, owner=None, subscription_permissions=None)"
      ]
     },
     "execution_count": 48,
     "metadata": {},
     "output_type": "execute_result"
    }
   ],
   "source": [
    "client.get_athlete()"
   ]
  },
  {
   "cell_type": "code",
   "execution_count": 34,
   "id": "1cdd41ac-d16e-45fb-833a-0c5ef24c3052",
   "metadata": {},
   "outputs": [
    {
     "name": "stdout",
     "output_type": "stream",
     "text": [
      "Chain Ultegra:  4521.0  km\n",
      "Chain Dura Ace:  631.0  km\n",
      "Cassette Ultegra : 4709.0, km\n",
      "Cassette 105 : 443.0, km\n"
     ]
    }
   ],
   "source": [
    "#shows the wear (KM) for each chain and cassette\n",
    "getChainWear()\n",
    "getCassetteWear()"
   ]
  }
 ],
 "metadata": {
  "kernelspec": {
   "display_name": "Python (default-env)",
   "language": "python",
   "name": "default-env"
  },
  "language_info": {
   "codemirror_mode": {
    "name": "ipython",
    "version": 3
   },
   "file_extension": ".py",
   "mimetype": "text/x-python",
   "name": "python",
   "nbconvert_exporter": "python",
   "pygments_lexer": "ipython3",
   "version": "3.10.15"
  }
 },
 "nbformat": 4,
 "nbformat_minor": 5
}
