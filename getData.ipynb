{
 "cells": [
  {
   "cell_type": "code",
   "execution_count": null,
   "id": "0",
   "metadata": {},
   "outputs": [],
   "source": [
    "%run authenticate.ipynb\n",
    "import datetime\n",
    "import pandas as pd"
   ]
  },
  {
   "cell_type": "code",
   "execution_count": null,
   "id": "1",
   "metadata": {},
   "outputs": [],
   "source": [
    "#authenticate to Strava and get all activities\n",
    "client = getAuthenticatedClient()\n",
    "activitiesStrava = client.get_activities()"
   ]
  },
  {
   "cell_type": "markdown",
   "id": "2",
   "metadata": {},
   "source": [
    "Some simple functions to export the activities to pandas format and compute useful statistics."
   ]
  },
  {
   "cell_type": "code",
   "execution_count": null,
   "id": "3",
   "metadata": {},
   "outputs": [],
   "source": [
    "def getActivitiesBike(customIdToBike = True):\n",
    "    \n",
    "    dic = {b.id: b.name for b in client.get_athlete().bikes} #bikes are stored with an id in strava.\n",
    "    \n",
    "    def gearIdToBike(x, dic): #converts the gear_id to the name of the actual bike I was riding (makes sure there is no None)\n",
    "        if (x['gear_id'] == None) and (x['start_date_local'] > pd.Timestamp('2024-05-24').tz_localize('UTC')):\n",
    "            return 'deRosa' #my current main bike\n",
    "        elif (x['gear_id'] == None) and (x['start_date_local'] <= pd.Timestamp('2024-05-24').tz_localize('UTC')):\n",
    "            return 'BMC diablo' #my old bike\n",
    "        else:\n",
    "            return dic[x['gear_id']]\n",
    "    \n",
    "    features = ['name', 'id', 'start_date_local', 'distance', 'gear_id', 'sport_type', 'elapsed_time']\n",
    "    \n",
    "    activities = []\n",
    "    for activity in activitiesStrava:\n",
    "        activities.append([getattr(activity, f, None) for f in features])\n",
    "    activities = pd.DataFrame(activities, columns = features)\n",
    "    \n",
    "    activities['distance'] = activities['distance'].apply(lambda x: x//1000) #converts to km\n",
    "    \n",
    "    activities = activities[(activities['sport_type'] == 'Ride') | (activities['sport_type'] == 'VirtualRide')] #filters out biking activities\n",
    "    \n",
    "    if customIdToBike == True: #exchanges gear_id with name of bike. \n",
    "        activities['bike'] = activities.apply(lambda x: gearIdToBike(x, dic), axis = 1)\n",
    "    else:\n",
    "        activities['bike'] = activities.apply(lambda x: None if x.gear_id == None else dic[x.gear_id], axis = 1)\n",
    "        \n",
    "    activities['type'] = activities.sport_type.apply(lambda x: 'Virtual' if x == 'VirtualRide' else 'Outdoor')\n",
    "    \n",
    "    activities['date'] = activities.start_date_local.apply(lambda x: x.strftime(\"%Y-%m-%d\"))\n",
    "\n",
    "    activities['time'] = round(activities['elapsed_time']/3600,1)\n",
    "    \n",
    "    return activities[['name', 'date', 'distance', 'bike', 'type', 'time']]\n",
    "\n",
    "\n",
    "\n",
    "#relevant informations for (my) chains and cassettes in use\n",
    "chainDeRosa = {\n",
    "    'Ultegra': ['2024-05-24', '2025-02-18'], #each entry in the list denotes the time the chain was put on (and the other chain removed)\n",
    "    'Dura Ace': ['2024-12-11']\n",
    "}\n",
    "CassetteDeRosa = { #two distinct cassettes, one mounted to indoor trainer, the other on the road bike.\n",
    "    'Ultegra': {'type': 'Outdoor'},\n",
    "    '105': {'type': 'Virtual'}\n",
    "}\n",
    "\n",
    "def getChainWear():\n",
    "    activities = getActivitiesBike()\n",
    "    distinct_dates = sorted(sum(list(chainDeRosa.values()),[]))\n",
    "    dates = [(start, end) for start,end in zip(distinct_dates, distinct_dates[1:])] + [(distinct_dates[-1], '2222-11-11')]\n",
    "    \n",
    "    fullDatesChains = {}\n",
    "    for c in chainDeRosa.keys():\n",
    "        fullDatesChains[c] = []\n",
    "        for (start,end) in dates:\n",
    "            if start in chainDeRosa[c]:\n",
    "                fullDatesChains[c].append((start,end))\n",
    "    for c in fullDatesChains:\n",
    "        chain_life = sum( activities[(start < activities.date) & (activities.date <= end) & (activities.bike == 'deRosa')].distance.sum() for (start,end) in fullDatesChains[c] )\n",
    "        print(f\"Chain {c}: \", chain_life, \" km\")\n",
    "\n",
    "def getCassetteWear():\n",
    "    activities = getActivitiesBike()\n",
    "    for cass in CassetteDeRosa:\n",
    "        wear = activities[(activities.type == CassetteDeRosa[cass]['type']) & (activities.bike == 'deRosa')].distance.sum()\n",
    "        print(f\"Cassette {cass} : {wear}, km\")\n"
   ]
  },
  {
   "cell_type": "code",
   "execution_count": null,
   "id": "4",
   "metadata": {},
   "outputs": [],
   "source": [
    "#returns the last 10 activities and computes the KMs this year\n",
    "activities = getActivitiesBike(True) #gets the activities\n",
    "print(activities[:10])\n",
    "total = activities[activities.date > '2025-01-01'].distance.sum()\n",
    "print('KMs this year: ', total)"
   ]
  },
  {
   "cell_type": "code",
   "execution_count": null,
   "id": "5",
   "metadata": {},
   "outputs": [],
   "source": [
    "client.get_athlete()"
   ]
  },
  {
   "cell_type": "code",
   "execution_count": null,
   "id": "6",
   "metadata": {},
   "outputs": [],
   "source": [
    "#shows the wear (KM) for each chain and cassette\n",
    "getChainWear()\n",
    "getCassetteWear()"
   ]
  }
 ],
 "metadata": {
  "kernelspec": {
   "display_name": "Python (default-env)",
   "language": "python",
   "name": "default-env"
  },
  "language_info": {
   "codemirror_mode": {
    "name": "ipython",
    "version": 3
   },
   "file_extension": ".py",
   "mimetype": "text/x-python",
   "name": "python",
   "nbconvert_exporter": "python",
   "pygments_lexer": "ipython3",
   "version": "3.10.15"
  }
 },
 "nbformat": 4,
 "nbformat_minor": 5
}
